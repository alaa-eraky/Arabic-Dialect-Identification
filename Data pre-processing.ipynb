{
 "cells": [
  {
   "cell_type": "code",
   "execution_count": 1,
   "id": "648c42b8",
   "metadata": {},
   "outputs": [],
   "source": [
    "import pandas as pd\n",
    "import numpy as np\n",
    "import re\n",
    "import regex "
   ]
  },
  {
   "cell_type": "code",
   "execution_count": 2,
   "id": "b9e788dc",
   "metadata": {},
   "outputs": [],
   "source": [
    "arabic_dialect = pd.read_csv('arabic_dialect.csv')"
   ]
  },
  {
   "cell_type": "code",
   "execution_count": 3,
   "id": "79550ed7",
   "metadata": {},
   "outputs": [
    {
     "name": "stdout",
     "output_type": "stream",
     "text": [
      "<class 'pandas.core.frame.DataFrame'>\n",
      "RangeIndex: 458197 entries, 0 to 458196\n",
      "Data columns (total 3 columns):\n",
      " #   Column   Non-Null Count   Dtype \n",
      "---  ------   --------------   ----- \n",
      " 0   id       458197 non-null  int64 \n",
      " 1   dialect  458197 non-null  object\n",
      " 2   tweets   458197 non-null  object\n",
      "dtypes: int64(1), object(2)\n",
      "memory usage: 10.5+ MB\n"
     ]
    }
   ],
   "source": [
    "arabic_dialect.info()"
   ]
  },
  {
   "cell_type": "code",
   "execution_count": 4,
   "id": "a3bca42a",
   "metadata": {},
   "outputs": [
    {
     "data": {
      "text/html": [
       "<div>\n",
       "<style scoped>\n",
       "    .dataframe tbody tr th:only-of-type {\n",
       "        vertical-align: middle;\n",
       "    }\n",
       "\n",
       "    .dataframe tbody tr th {\n",
       "        vertical-align: top;\n",
       "    }\n",
       "\n",
       "    .dataframe thead th {\n",
       "        text-align: right;\n",
       "    }\n",
       "</style>\n",
       "<table border=\"1\" class=\"dataframe\">\n",
       "  <thead>\n",
       "    <tr style=\"text-align: right;\">\n",
       "      <th></th>\n",
       "      <th>id</th>\n",
       "      <th>dialect</th>\n",
       "      <th>tweets</th>\n",
       "    </tr>\n",
       "  </thead>\n",
       "  <tbody>\n",
       "    <tr>\n",
       "      <th>0</th>\n",
       "      <td>1175358310087892992</td>\n",
       "      <td>IQ</td>\n",
       "      <td>@Nw8ieJUwaCAAreT لكن بالنهاية .. ينتفض .. يغير .</td>\n",
       "    </tr>\n",
       "    <tr>\n",
       "      <th>1</th>\n",
       "      <td>1175416117793349632</td>\n",
       "      <td>IQ</td>\n",
       "      <td>@7zNqXP0yrODdRjK يعني هذا محسوب على البشر .. ح...</td>\n",
       "    </tr>\n",
       "    <tr>\n",
       "      <th>2</th>\n",
       "      <td>1175450108898565888</td>\n",
       "      <td>IQ</td>\n",
       "      <td>@KanaanRema مبين من كلامه خليجي</td>\n",
       "    </tr>\n",
       "    <tr>\n",
       "      <th>3</th>\n",
       "      <td>1175471073770573824</td>\n",
       "      <td>IQ</td>\n",
       "      <td>@HAIDER76128900 يسلملي مرورك وروحك الحلوه💐</td>\n",
       "    </tr>\n",
       "    <tr>\n",
       "      <th>4</th>\n",
       "      <td>1175496913145217024</td>\n",
       "      <td>IQ</td>\n",
       "      <td>@hmo2406 وين هل الغيبه  اخ محمد 🌸🌺</td>\n",
       "    </tr>\n",
       "  </tbody>\n",
       "</table>\n",
       "</div>"
      ],
      "text/plain": [
       "                    id dialect  \\\n",
       "0  1175358310087892992      IQ   \n",
       "1  1175416117793349632      IQ   \n",
       "2  1175450108898565888      IQ   \n",
       "3  1175471073770573824      IQ   \n",
       "4  1175496913145217024      IQ   \n",
       "\n",
       "                                              tweets  \n",
       "0   @Nw8ieJUwaCAAreT لكن بالنهاية .. ينتفض .. يغير .  \n",
       "1  @7zNqXP0yrODdRjK يعني هذا محسوب على البشر .. ح...  \n",
       "2                    @KanaanRema مبين من كلامه خليجي  \n",
       "3         @HAIDER76128900 يسلملي مرورك وروحك الحلوه💐  \n",
       "4                 @hmo2406 وين هل الغيبه  اخ محمد 🌸🌺  "
      ]
     },
     "execution_count": 4,
     "metadata": {},
     "output_type": "execute_result"
    }
   ],
   "source": [
    "arabic_dialect.head()"
   ]
  },
  {
   "cell_type": "markdown",
   "id": "979f9744",
   "metadata": {},
   "source": [
    "**Map the values of dialect column to be numbers for the model training stage** "
   ]
  },
  {
   "cell_type": "code",
   "execution_count": 5,
   "id": "d90f691b",
   "metadata": {},
   "outputs": [
    {
     "data": {
      "text/plain": [
       "EG    57636\n",
       "PL    43742\n",
       "KW    42109\n",
       "LY    36499\n",
       "QA    31069\n",
       "JO    27921\n",
       "LB    27617\n",
       "SA    26832\n",
       "AE    26296\n",
       "BH    26292\n",
       "OM    19116\n",
       "SY    16242\n",
       "DZ    16183\n",
       "IQ    15497\n",
       "SD    14434\n",
       "MA    11539\n",
       "YE     9927\n",
       "TN     9246\n",
       "Name: dialect, dtype: int64"
      ]
     },
     "execution_count": 5,
     "metadata": {},
     "output_type": "execute_result"
    }
   ],
   "source": [
    "arabic_dialect.dialect.value_counts()"
   ]
  },
  {
   "cell_type": "code",
   "execution_count": 6,
   "id": "0170512a",
   "metadata": {},
   "outputs": [
    {
     "data": {
      "text/plain": [
       "array(['IQ', 'LY', 'QA', 'PL', 'SY', 'TN', 'JO', 'MA', 'SA', 'YE', 'DZ',\n",
       "       'EG', 'LB', 'KW', 'OM', 'SD', 'AE', 'BH'], dtype=object)"
      ]
     },
     "execution_count": 6,
     "metadata": {},
     "output_type": "execute_result"
    }
   ],
   "source": [
    "arabic_dialect.dialect.unique()"
   ]
  },
  {
   "cell_type": "code",
   "execution_count": 7,
   "id": "9be6f68e",
   "metadata": {},
   "outputs": [],
   "source": [
    "dialects = {'IQ':1, 'LY':2, 'QA':3, 'PL':4, 'SY':5, 'TN':6, 'JO':7,\n",
    "            'MA':8, 'SA':9, 'YE':10, 'DZ':11,'EG':12, 'LB':13, 'KW':14,\n",
    "            'OM':15, 'SD':16, 'AE':17, 'BH':18}\n",
    "arabic_dialect.dialect = arabic_dialect.dialect.map(dialects)"
   ]
  },
  {
   "cell_type": "code",
   "execution_count": 8,
   "id": "f7029d62",
   "metadata": {},
   "outputs": [
    {
     "data": {
      "text/html": [
       "<div>\n",
       "<style scoped>\n",
       "    .dataframe tbody tr th:only-of-type {\n",
       "        vertical-align: middle;\n",
       "    }\n",
       "\n",
       "    .dataframe tbody tr th {\n",
       "        vertical-align: top;\n",
       "    }\n",
       "\n",
       "    .dataframe thead th {\n",
       "        text-align: right;\n",
       "    }\n",
       "</style>\n",
       "<table border=\"1\" class=\"dataframe\">\n",
       "  <thead>\n",
       "    <tr style=\"text-align: right;\">\n",
       "      <th></th>\n",
       "      <th>id</th>\n",
       "      <th>dialect</th>\n",
       "      <th>tweets</th>\n",
       "    </tr>\n",
       "  </thead>\n",
       "  <tbody>\n",
       "    <tr>\n",
       "      <th>0</th>\n",
       "      <td>1175358310087892992</td>\n",
       "      <td>1</td>\n",
       "      <td>@Nw8ieJUwaCAAreT لكن بالنهاية .. ينتفض .. يغير .</td>\n",
       "    </tr>\n",
       "    <tr>\n",
       "      <th>1</th>\n",
       "      <td>1175416117793349632</td>\n",
       "      <td>1</td>\n",
       "      <td>@7zNqXP0yrODdRjK يعني هذا محسوب على البشر .. ح...</td>\n",
       "    </tr>\n",
       "    <tr>\n",
       "      <th>2</th>\n",
       "      <td>1175450108898565888</td>\n",
       "      <td>1</td>\n",
       "      <td>@KanaanRema مبين من كلامه خليجي</td>\n",
       "    </tr>\n",
       "    <tr>\n",
       "      <th>3</th>\n",
       "      <td>1175471073770573824</td>\n",
       "      <td>1</td>\n",
       "      <td>@HAIDER76128900 يسلملي مرورك وروحك الحلوه💐</td>\n",
       "    </tr>\n",
       "    <tr>\n",
       "      <th>4</th>\n",
       "      <td>1175496913145217024</td>\n",
       "      <td>1</td>\n",
       "      <td>@hmo2406 وين هل الغيبه  اخ محمد 🌸🌺</td>\n",
       "    </tr>\n",
       "  </tbody>\n",
       "</table>\n",
       "</div>"
      ],
      "text/plain": [
       "                    id  dialect  \\\n",
       "0  1175358310087892992        1   \n",
       "1  1175416117793349632        1   \n",
       "2  1175450108898565888        1   \n",
       "3  1175471073770573824        1   \n",
       "4  1175496913145217024        1   \n",
       "\n",
       "                                              tweets  \n",
       "0   @Nw8ieJUwaCAAreT لكن بالنهاية .. ينتفض .. يغير .  \n",
       "1  @7zNqXP0yrODdRjK يعني هذا محسوب على البشر .. ح...  \n",
       "2                    @KanaanRema مبين من كلامه خليجي  \n",
       "3         @HAIDER76128900 يسلملي مرورك وروحك الحلوه💐  \n",
       "4                 @hmo2406 وين هل الغيبه  اخ محمد 🌸🌺  "
      ]
     },
     "execution_count": 8,
     "metadata": {},
     "output_type": "execute_result"
    }
   ],
   "source": [
    "arabic_dialect.head()"
   ]
  },
  {
   "cell_type": "markdown",
   "id": "63505b79",
   "metadata": {},
   "source": [
    "**Removing user names in the tweets** "
   ]
  },
  {
   "cell_type": "code",
   "execution_count": 9,
   "id": "2ed598fe",
   "metadata": {},
   "outputs": [],
   "source": [
    "def remove_usernames_links(tweet):\n",
    "    tweet = re.sub('@[^\\s]+','',tweet)\n",
    "    tweet = re.sub('http[^\\s]+','',tweet)\n",
    "    return tweet\n",
    "arabic_dialect.tweets = arabic_dialect.tweets.apply(remove_usernames_links)"
   ]
  },
  {
   "cell_type": "code",
   "execution_count": 10,
   "id": "869eb00c",
   "metadata": {},
   "outputs": [
    {
     "data": {
      "text/plain": [
       "0                           لكن بالنهاية .. ينتفض .. يغير .\n",
       "1          يعني هذا محسوب على البشر .. حيونه ووحشيه .. و...\n",
       "2                                       مبين من كلامه خليجي\n",
       "3                                يسلملي مرورك وروحك الحلوه💐\n",
       "4                                 وين هل الغيبه  اخ محمد 🌸🌺\n",
       "                                ...                        \n",
       "458192                            مبسوطين منك اللي باسطانا😅\n",
       "458193                                والله ماينده ابش يختي\n",
       "458194     شو عملنا لك حنا تهربي مننا احنا مساكين ليش بت...\n",
       "458195                        الله يبارك فيها وبالعافيه 😋😋😋\n",
       "458196                       السحله ضيفي ي بتطلع لك سحليه😅😅\n",
       "Name: tweets, Length: 458197, dtype: object"
      ]
     },
     "execution_count": 10,
     "metadata": {},
     "output_type": "execute_result"
    }
   ],
   "source": [
    "arabic_dialect.tweets"
   ]
  },
  {
   "cell_type": "markdown",
   "id": "1dc9518d",
   "metadata": {},
   "source": [
    "**Removing emojis in the tweets** "
   ]
  },
  {
   "cell_type": "code",
   "execution_count": 11,
   "id": "6dbf382d",
   "metadata": {},
   "outputs": [],
   "source": [
    "def removeEmoji(text):\n",
    "    regrex_pattern = re.compile(pattern =  \"[\"\n",
    "    \"\\U0001F1E0-\\U0001F1FF\"  # flags (iOS)\n",
    "    \"\\U0001F300-\\U0001F5FF\"  # symbols & pictographs\n",
    "    \"\\U0001F600-\\U0001F64F\"  # emoticons\n",
    "    \"\\U0001F680-\\U0001F6FF\"  # transport & map symbols\n",
    "    \"\\U0001F700-\\U0001F77F\"  # alchemical symbols\n",
    "    \"\\U0001F780-\\U0001F7FF\"  # Geometric Shapes Extended\n",
    "    \"\\U0001F800-\\U0001F8FF\"  # Supplemental Arrows-C\n",
    "    \"\\U0001F900-\\U0001F9FF\"  # Supplemental Symbols and Pictographs\n",
    "    \"\\U0001FA00-\\U0001FA6F\"  # Chess Symbols\n",
    "    \"\\U0001FA70-\\U0001FAFF\"  # Symbols and Pictographs Extended-A\n",
    "    \"\\U00002702-\\U000027B0\"  # Dingbats\n",
    "    \"\\U000024C2-\\U0001F251\" \n",
    "    \"]+\", flags = re.UNICODE)\n",
    "    return regrex_pattern.sub(r'',text)\n",
    "\n",
    "arabic_dialect.tweets = arabic_dialect.tweets.apply(removeEmoji)"
   ]
  },
  {
   "cell_type": "code",
   "execution_count": 12,
   "id": "d35ac5ab",
   "metadata": {},
   "outputs": [
    {
     "data": {
      "text/plain": [
       "0                           لكن بالنهاية .. ينتفض .. يغير .\n",
       "1          يعني هذا محسوب على البشر .. حيونه ووحشيه .. و...\n",
       "2                                       مبين من كلامه خليجي\n",
       "3                                 يسلملي مرورك وروحك الحلوه\n",
       "4                                   وين هل الغيبه  اخ محمد \n",
       "                                ...                        \n",
       "458192                             مبسوطين منك اللي باسطانا\n",
       "458193                                والله ماينده ابش يختي\n",
       "458194     شو عملنا لك حنا تهربي مننا احنا مساكين ليش بت...\n",
       "458195                           الله يبارك فيها وبالعافيه \n",
       "458196                         السحله ضيفي ي بتطلع لك سحليه\n",
       "Name: tweets, Length: 458197, dtype: object"
      ]
     },
     "execution_count": 12,
     "metadata": {},
     "output_type": "execute_result"
    }
   ],
   "source": [
    "arabic_dialect.tweets"
   ]
  },
  {
   "cell_type": "markdown",
   "id": "cdf6474b",
   "metadata": {},
   "source": [
    "**Tokenize the tweets**"
   ]
  },
  {
   "cell_type": "code",
   "execution_count": 13,
   "id": "a9c128b5",
   "metadata": {},
   "outputs": [
    {
     "name": "stderr",
     "output_type": "stream",
     "text": [
      "[nltk_data] Downloading package punkt to\n",
      "[nltk_data]     C:\\Users\\laptop\\AppData\\Roaming\\nltk_data...\n",
      "[nltk_data]   Package punkt is already up-to-date!\n"
     ]
    },
    {
     "data": {
      "text/plain": [
       "True"
      ]
     },
     "execution_count": 13,
     "metadata": {},
     "output_type": "execute_result"
    }
   ],
   "source": [
    "#tokenization\n",
    "from nltk.tokenize import word_tokenize\n",
    "import nltk\n",
    "nltk.download('punkt')"
   ]
  },
  {
   "cell_type": "code",
   "execution_count": 14,
   "id": "865efa50",
   "metadata": {},
   "outputs": [],
   "source": [
    "def tokenize_tweet (text):\n",
    "    text = text.replace(',','').replace('.','')\n",
    "    return  word_tokenize(text) \n",
    "    \n",
    "arabic_dialect.tweets = arabic_dialect.tweets.apply(tokenize_tweet)"
   ]
  },
  {
   "cell_type": "code",
   "execution_count": 15,
   "id": "865cf43d",
   "metadata": {},
   "outputs": [
    {
     "data": {
      "text/html": [
       "<div>\n",
       "<style scoped>\n",
       "    .dataframe tbody tr th:only-of-type {\n",
       "        vertical-align: middle;\n",
       "    }\n",
       "\n",
       "    .dataframe tbody tr th {\n",
       "        vertical-align: top;\n",
       "    }\n",
       "\n",
       "    .dataframe thead th {\n",
       "        text-align: right;\n",
       "    }\n",
       "</style>\n",
       "<table border=\"1\" class=\"dataframe\">\n",
       "  <thead>\n",
       "    <tr style=\"text-align: right;\">\n",
       "      <th></th>\n",
       "      <th>id</th>\n",
       "      <th>dialect</th>\n",
       "      <th>tweets</th>\n",
       "    </tr>\n",
       "  </thead>\n",
       "  <tbody>\n",
       "    <tr>\n",
       "      <th>0</th>\n",
       "      <td>1175358310087892992</td>\n",
       "      <td>1</td>\n",
       "      <td>[لكن, بالنهاية, ينتفض, يغير]</td>\n",
       "    </tr>\n",
       "    <tr>\n",
       "      <th>1</th>\n",
       "      <td>1175416117793349632</td>\n",
       "      <td>1</td>\n",
       "      <td>[يعني, هذا, محسوب, على, البشر, حيونه, ووحشيه, ...</td>\n",
       "    </tr>\n",
       "    <tr>\n",
       "      <th>2</th>\n",
       "      <td>1175450108898565888</td>\n",
       "      <td>1</td>\n",
       "      <td>[مبين, من, كلامه, خليجي]</td>\n",
       "    </tr>\n",
       "    <tr>\n",
       "      <th>3</th>\n",
       "      <td>1175471073770573824</td>\n",
       "      <td>1</td>\n",
       "      <td>[يسلملي, مرورك, وروحك, الحلوه]</td>\n",
       "    </tr>\n",
       "    <tr>\n",
       "      <th>4</th>\n",
       "      <td>1175496913145217024</td>\n",
       "      <td>1</td>\n",
       "      <td>[وين, هل, الغيبه, اخ, محمد]</td>\n",
       "    </tr>\n",
       "  </tbody>\n",
       "</table>\n",
       "</div>"
      ],
      "text/plain": [
       "                    id  dialect  \\\n",
       "0  1175358310087892992        1   \n",
       "1  1175416117793349632        1   \n",
       "2  1175450108898565888        1   \n",
       "3  1175471073770573824        1   \n",
       "4  1175496913145217024        1   \n",
       "\n",
       "                                              tweets  \n",
       "0                       [لكن, بالنهاية, ينتفض, يغير]  \n",
       "1  [يعني, هذا, محسوب, على, البشر, حيونه, ووحشيه, ...  \n",
       "2                           [مبين, من, كلامه, خليجي]  \n",
       "3                     [يسلملي, مرورك, وروحك, الحلوه]  \n",
       "4                        [وين, هل, الغيبه, اخ, محمد]  "
      ]
     },
     "execution_count": 15,
     "metadata": {},
     "output_type": "execute_result"
    }
   ],
   "source": [
    "arabic_dialect.head()"
   ]
  },
  {
   "cell_type": "markdown",
   "id": "811425eb",
   "metadata": {},
   "source": [
    "**Shuffle the dataset to use it in the modeling step**"
   ]
  },
  {
   "cell_type": "code",
   "execution_count": 16,
   "id": "725c3466",
   "metadata": {},
   "outputs": [
    {
     "data": {
      "text/html": [
       "<div>\n",
       "<style scoped>\n",
       "    .dataframe tbody tr th:only-of-type {\n",
       "        vertical-align: middle;\n",
       "    }\n",
       "\n",
       "    .dataframe tbody tr th {\n",
       "        vertical-align: top;\n",
       "    }\n",
       "\n",
       "    .dataframe thead th {\n",
       "        text-align: right;\n",
       "    }\n",
       "</style>\n",
       "<table border=\"1\" class=\"dataframe\">\n",
       "  <thead>\n",
       "    <tr style=\"text-align: right;\">\n",
       "      <th></th>\n",
       "      <th>index</th>\n",
       "      <th>id</th>\n",
       "      <th>dialect</th>\n",
       "      <th>tweets</th>\n",
       "    </tr>\n",
       "  </thead>\n",
       "  <tbody>\n",
       "    <tr>\n",
       "      <th>0</th>\n",
       "      <td>297423</td>\n",
       "      <td>934055133171912832</td>\n",
       "      <td>12</td>\n",
       "      <td>[سؤال, بس, لمن, يفهم, بتوتر, هما, الناس, الي, ...</td>\n",
       "    </tr>\n",
       "    <tr>\n",
       "      <th>1</th>\n",
       "      <td>106161</td>\n",
       "      <td>1171407436814721024</td>\n",
       "      <td>4</td>\n",
       "      <td>[هادا, الصحن, تخصصه, حمص, و, فول, كيف, حاطين, ...</td>\n",
       "    </tr>\n",
       "    <tr>\n",
       "      <th>2</th>\n",
       "      <td>170315</td>\n",
       "      <td>1054942138985791616</td>\n",
       "      <td>7</td>\n",
       "      <td>[رايحه, اداوم, بدون, نوم, صباح, الخير]</td>\n",
       "    </tr>\n",
       "    <tr>\n",
       "      <th>3</th>\n",
       "      <td>34373</td>\n",
       "      <td>863396710063722496</td>\n",
       "      <td>2</td>\n",
       "      <td>[انا, من, السبعة, الصبح, للواحد, الظهر]</td>\n",
       "    </tr>\n",
       "    <tr>\n",
       "      <th>4</th>\n",
       "      <td>443855</td>\n",
       "      <td>721682683580039168</td>\n",
       "      <td>18</td>\n",
       "      <td>[الخبر, الصحيح, وعلى, وجه, الدقة, شوهد, حامل, ...</td>\n",
       "    </tr>\n",
       "  </tbody>\n",
       "</table>\n",
       "</div>"
      ],
      "text/plain": [
       "    index                   id  dialect  \\\n",
       "0  297423   934055133171912832       12   \n",
       "1  106161  1171407436814721024        4   \n",
       "2  170315  1054942138985791616        7   \n",
       "3   34373   863396710063722496        2   \n",
       "4  443855   721682683580039168       18   \n",
       "\n",
       "                                              tweets  \n",
       "0  [سؤال, بس, لمن, يفهم, بتوتر, هما, الناس, الي, ...  \n",
       "1  [هادا, الصحن, تخصصه, حمص, و, فول, كيف, حاطين, ...  \n",
       "2             [رايحه, اداوم, بدون, نوم, صباح, الخير]  \n",
       "3            [انا, من, السبعة, الصبح, للواحد, الظهر]  \n",
       "4  [الخبر, الصحيح, وعلى, وجه, الدقة, شوهد, حامل, ...  "
      ]
     },
     "execution_count": 16,
     "metadata": {},
     "output_type": "execute_result"
    }
   ],
   "source": [
    "final_dataset = arabic_dialect.sample(frac=1, random_state=1).reset_index()\n",
    "final_dataset.head()"
   ]
  },
  {
   "cell_type": "code",
   "execution_count": 18,
   "id": "f8a7b610",
   "metadata": {},
   "outputs": [],
   "source": [
    "final_dataset.to_csv('final_dataset.csv', header=True, index=False)"
   ]
  }
 ],
 "metadata": {
  "kernelspec": {
   "display_name": "Python 3 (ipykernel)",
   "language": "python",
   "name": "python3"
  },
  "language_info": {
   "codemirror_mode": {
    "name": "ipython",
    "version": 3
   },
   "file_extension": ".py",
   "mimetype": "text/x-python",
   "name": "python",
   "nbconvert_exporter": "python",
   "pygments_lexer": "ipython3",
   "version": "3.9.7"
  }
 },
 "nbformat": 4,
 "nbformat_minor": 5
}
