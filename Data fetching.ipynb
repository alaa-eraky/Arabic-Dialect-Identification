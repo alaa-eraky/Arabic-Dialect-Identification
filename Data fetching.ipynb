{
 "cells": [
  {
   "cell_type": "markdown",
   "id": "ecd30af5",
   "metadata": {},
   "source": [
    "### Import needed libraries "
   ]
  },
  {
   "cell_type": "code",
   "execution_count": 1,
   "id": "6aeab75a",
   "metadata": {},
   "outputs": [],
   "source": [
    "import pandas as pd\n",
    "import numpy as np\n",
    "import requests\n",
    "import re\n",
    "import json"
   ]
  },
  {
   "cell_type": "markdown",
   "id": "cf5e0cd9",
   "metadata": {},
   "source": [
    "**Import the dataset**"
   ]
  },
  {
   "cell_type": "code",
   "execution_count": 2,
   "id": "c3ef078f",
   "metadata": {},
   "outputs": [],
   "source": [
    "data = pd.read_csv('Downloads/dialect_dataset.csv')"
   ]
  },
  {
   "cell_type": "code",
   "execution_count": 3,
   "id": "8ae11953",
   "metadata": {},
   "outputs": [
    {
     "name": "stdout",
     "output_type": "stream",
     "text": [
      "<class 'pandas.core.frame.DataFrame'>\n",
      "RangeIndex: 458197 entries, 0 to 458196\n",
      "Data columns (total 2 columns):\n",
      " #   Column   Non-Null Count   Dtype \n",
      "---  ------   --------------   ----- \n",
      " 0   id       458197 non-null  int64 \n",
      " 1   dialect  458197 non-null  object\n",
      "dtypes: int64(1), object(1)\n",
      "memory usage: 7.0+ MB\n"
     ]
    }
   ],
   "source": [
    "data.info()"
   ]
  },
  {
   "cell_type": "markdown",
   "id": "17bed02b",
   "metadata": {},
   "source": [
    "**Check for null values**"
   ]
  },
  {
   "cell_type": "code",
   "execution_count": 4,
   "id": "e42e3f64",
   "metadata": {},
   "outputs": [
    {
     "data": {
      "text/plain": [
       "id         0\n",
       "dialect    0\n",
       "dtype: int64"
      ]
     },
     "execution_count": 4,
     "metadata": {},
     "output_type": "execute_result"
    }
   ],
   "source": [
    "data.isnull().sum()"
   ]
  },
  {
   "cell_type": "code",
   "execution_count": 5,
   "id": "1e746d90",
   "metadata": {},
   "outputs": [
    {
     "data": {
      "text/plain": [
       "458197"
      ]
     },
     "execution_count": 5,
     "metadata": {},
     "output_type": "execute_result"
    }
   ],
   "source": [
    "id_list = list(data.id)\n",
    "len(id_list)"
   ]
  },
  {
   "cell_type": "markdown",
   "id": "aaaffd02",
   "metadata": {},
   "source": [
    "**Split the id list to small lists with 1000 items to can use it in the POST request**"
   ]
  },
  {
   "cell_type": "code",
   "execution_count": 6,
   "id": "b89034eb",
   "metadata": {},
   "outputs": [
    {
     "data": {
      "text/plain": [
       "459"
      ]
     },
     "execution_count": 6,
     "metadata": {},
     "output_type": "execute_result"
    }
   ],
   "source": [
    "chunked_id_list = []\n",
    "chunk_size = 1000\n",
    "for i in range( 0, len(id_list), chunk_size):\n",
    "  chunked_id_list.append(id_list[i: i+chunk_size])\n",
    "len(chunked_id_list)"
   ]
  },
  {
   "cell_type": "markdown",
   "id": "1000f14d",
   "metadata": {},
   "source": [
    "**Quoted the id to can send it to the POST request**"
   ]
  },
  {
   "cell_type": "code",
   "execution_count": 7,
   "id": "05be078e",
   "metadata": {},
   "outputs": [
    {
     "data": {
      "text/plain": [
       "459"
      ]
     },
     "execution_count": 7,
     "metadata": {},
     "output_type": "execute_result"
    }
   ],
   "source": [
    "final_lst = []\n",
    "for i in chunked_id_list:\n",
    "  lst = str(i)\n",
    "  quoted_lst = re.findall(r'[\\w]+', lst)\n",
    "  final_lst.append(quoted_lst)\n",
    "len(final_lst)  "
   ]
  },
  {
   "cell_type": "markdown",
   "id": "a35bdd92",
   "metadata": {},
   "source": [
    "**Got the tweets from the POST request** "
   ]
  },
  {
   "cell_type": "code",
   "execution_count": 11,
   "id": "5203ba34",
   "metadata": {},
   "outputs": [],
   "source": [
    "url = 'https://recruitment.aimtechnologies.co/ai-tasks'\n",
    "data2 = {}\n",
    "for i in final_lst:\n",
    "    response = requests.post(url, json = i)\n",
    "    data2.update(response.json())"
   ]
  },
  {
   "cell_type": "markdown",
   "id": "3ac71daf",
   "metadata": {},
   "source": [
    "**Make DataFrame from the tweets dataset** "
   ]
  },
  {
   "cell_type": "code",
   "execution_count": 25,
   "id": "fad93895",
   "metadata": {},
   "outputs": [],
   "source": [
    "tweets_dataset = pd.DataFrame(data2.items(), columns=['id','tweets'])"
   ]
  },
  {
   "cell_type": "markdown",
   "id": "b747563b",
   "metadata": {},
   "source": [
    "**Combine the two datasets**"
   ]
  },
  {
   "cell_type": "code",
   "execution_count": 28,
   "id": "c99a8f36",
   "metadata": {},
   "outputs": [],
   "source": [
    "data['tweets'] = tweets_dataset.tweets"
   ]
  },
  {
   "cell_type": "code",
   "execution_count": 29,
   "id": "89c78b74",
   "metadata": {},
   "outputs": [
    {
     "data": {
      "text/html": [
       "<div>\n",
       "<style scoped>\n",
       "    .dataframe tbody tr th:only-of-type {\n",
       "        vertical-align: middle;\n",
       "    }\n",
       "\n",
       "    .dataframe tbody tr th {\n",
       "        vertical-align: top;\n",
       "    }\n",
       "\n",
       "    .dataframe thead th {\n",
       "        text-align: right;\n",
       "    }\n",
       "</style>\n",
       "<table border=\"1\" class=\"dataframe\">\n",
       "  <thead>\n",
       "    <tr style=\"text-align: right;\">\n",
       "      <th></th>\n",
       "      <th>id</th>\n",
       "      <th>dialect</th>\n",
       "      <th>tweets</th>\n",
       "    </tr>\n",
       "  </thead>\n",
       "  <tbody>\n",
       "    <tr>\n",
       "      <th>0</th>\n",
       "      <td>1175358310087892992</td>\n",
       "      <td>IQ</td>\n",
       "      <td>@Nw8ieJUwaCAAreT لكن بالنهاية .. ينتفض .. يغير .</td>\n",
       "    </tr>\n",
       "    <tr>\n",
       "      <th>1</th>\n",
       "      <td>1175416117793349632</td>\n",
       "      <td>IQ</td>\n",
       "      <td>@7zNqXP0yrODdRjK يعني هذا محسوب على البشر .. ح...</td>\n",
       "    </tr>\n",
       "    <tr>\n",
       "      <th>2</th>\n",
       "      <td>1175450108898565888</td>\n",
       "      <td>IQ</td>\n",
       "      <td>@KanaanRema مبين من كلامه خليجي</td>\n",
       "    </tr>\n",
       "    <tr>\n",
       "      <th>3</th>\n",
       "      <td>1175471073770573824</td>\n",
       "      <td>IQ</td>\n",
       "      <td>@HAIDER76128900 يسلملي مرورك وروحك الحلوه💐</td>\n",
       "    </tr>\n",
       "    <tr>\n",
       "      <th>4</th>\n",
       "      <td>1175496913145217024</td>\n",
       "      <td>IQ</td>\n",
       "      <td>@hmo2406 وين هل الغيبه  اخ محمد 🌸🌺</td>\n",
       "    </tr>\n",
       "  </tbody>\n",
       "</table>\n",
       "</div>"
      ],
      "text/plain": [
       "                    id dialect  \\\n",
       "0  1175358310087892992      IQ   \n",
       "1  1175416117793349632      IQ   \n",
       "2  1175450108898565888      IQ   \n",
       "3  1175471073770573824      IQ   \n",
       "4  1175496913145217024      IQ   \n",
       "\n",
       "                                              tweets  \n",
       "0   @Nw8ieJUwaCAAreT لكن بالنهاية .. ينتفض .. يغير .  \n",
       "1  @7zNqXP0yrODdRjK يعني هذا محسوب على البشر .. ح...  \n",
       "2                    @KanaanRema مبين من كلامه خليجي  \n",
       "3         @HAIDER76128900 يسلملي مرورك وروحك الحلوه💐  \n",
       "4                 @hmo2406 وين هل الغيبه  اخ محمد 🌸🌺  "
      ]
     },
     "execution_count": 29,
     "metadata": {},
     "output_type": "execute_result"
    }
   ],
   "source": [
    "data.head()"
   ]
  },
  {
   "cell_type": "code",
   "execution_count": 30,
   "id": "eb2edaab",
   "metadata": {},
   "outputs": [],
   "source": [
    "data.to_csv('arabic_dialect.csv', header=True, index=False)"
   ]
  }
 ],
 "metadata": {
  "kernelspec": {
   "display_name": "Python 3 (ipykernel)",
   "language": "python",
   "name": "python3"
  },
  "language_info": {
   "codemirror_mode": {
    "name": "ipython",
    "version": 3
   },
   "file_extension": ".py",
   "mimetype": "text/x-python",
   "name": "python",
   "nbconvert_exporter": "python",
   "pygments_lexer": "ipython3",
   "version": "3.9.7"
  }
 },
 "nbformat": 4,
 "nbformat_minor": 5
}
